{
 "cells": [
  {
   "cell_type": "markdown",
   "id": "3c28fbb0-fd6b-4637-b965-e8f4cdda6d36",
   "metadata": {},
   "source": [
    "Python Basics Assignment"
   ]
  },
  {
   "cell_type": "raw",
   "id": "ed0ecd9e-0080-468a-8284-4346f3f66df1",
   "metadata": {},
   "source": [
    "TOPIC: Python Basics Variable"
   ]
  },
  {
   "cell_type": "markdown",
   "id": "bce875a5-7e83-4205-bdbd-c525827fb999",
   "metadata": {},
   "source": [
    "1. Declare two variables, `x` and `y`, and assign them integer values. Swap the\n",
    "values of these variables without using any temporary variable."
   ]
  },
  {
   "cell_type": "code",
   "execution_count": 9,
   "id": "2a499147-cd2d-45d2-84e3-662188eadf55",
   "metadata": {},
   "outputs": [
    {
     "name": "stdout",
     "output_type": "stream",
     "text": [
      "After swapping:\n",
      "x = 19\n",
      "y = 35\n"
     ]
    }
   ],
   "source": [
    "x = 35\n",
    "y = 19\n",
    "\n",
    "# Swapping values without using a temporary variable\n",
    "x, y = y, x\n",
    "\n",
    "# Now, x holds the value that y had, and y holds the value that x had\n",
    "print(\"After swapping:\")\n",
    "print(\"x =\", x)\n",
    "print(\"y =\", y)\n"
   ]
  },
  {
   "cell_type": "markdown",
   "id": "84e74923-ea60-42f6-a438-88fa2219df96",
   "metadata": {},
   "source": [
    "2. Create a program that calculates the area of a rectangle. Take the length and\n",
    "width as inputs from the user and store them in variables. Calculate and\n",
    "display the area."
   ]
  },
  {
   "cell_type": "code",
   "execution_count": 8,
   "id": "67b49b24-142b-4b0e-9528-a52c66b0fd3f",
   "metadata": {},
   "outputs": [
    {
     "name": "stdout",
     "output_type": "stream",
     "text": [
      "Welcome to the Rectangle Area Calculator!\n",
      "Please provide the length and width of the rectangle.\n"
     ]
    },
    {
     "name": "stdin",
     "output_type": "stream",
     "text": [
      "Enter the length of the rectangle:  16\n",
      "Enter the width of the rectangle:  4\n"
     ]
    },
    {
     "name": "stdout",
     "output_type": "stream",
     "text": [
      "\n",
      "The area of a rectangle with length 16.0 units and width 4.0 units is:\n",
      "Area = 64.0 square units\n"
     ]
    }
   ],
   "source": [
    "# Welcome the user and provide instructions\n",
    "print(\"Welcome to the Rectangle Area Calculator!\")\n",
    "print(\"Please provide the length and width of the rectangle.\")\n",
    "\n",
    "# Input: Length and Width from the user\n",
    "length = float(input(\"Enter the length of the rectangle: \"))\n",
    "width = float(input(\"Enter the width of the rectangle: \"))\n",
    "\n",
    "# Calculate the area of the rectangle\n",
    "area = length * width\n",
    "\n",
    "# Display the result along with a descriptive message\n",
    "print(\"\\nThe area of a rectangle with length {} units and width {} units is:\".format(length, width))\n",
    "print(\"Area =\", area, \"square units\")\n",
    "\n"
   ]
  },
  {
   "cell_type": "markdown",
   "id": "ec79dab3-91e2-4d49-9eee-f0db1201be57",
   "metadata": {},
   "source": [
    "3. Write a Python program that converts temperatures from Celsius to\n",
    "Fahrenheit. Take the temperature in Celsius as input, store it in a variable,\n",
    "convert it to Fahrenheit, and display the result."
   ]
  },
  {
   "cell_type": "code",
   "execution_count": 10,
   "id": "efb8cccb-3127-4565-a65c-84c901a2895e",
   "metadata": {},
   "outputs": [
    {
     "name": "stdout",
     "output_type": "stream",
     "text": [
      "Welcome to the Celsius to Fahrenheit Temperature Converter!\n",
      "Please enter the temperature in Celsius.\n"
     ]
    },
    {
     "name": "stdin",
     "output_type": "stream",
     "text": [
      "Enter the temperature in Celsius:  6\n"
     ]
    },
    {
     "name": "stdout",
     "output_type": "stream",
     "text": [
      "\n",
      "Temperature Conversion:\n",
      "6.0 degrees Celsius is equal to 42.8 degrees Fahrenheit.\n"
     ]
    }
   ],
   "source": [
    "# Welcome the user and provide instructions\n",
    "print(\"Welcome to the Celsius to Fahrenheit Temperature Converter!\")\n",
    "print(\"Please enter the temperature in Celsius.\")\n",
    "\n",
    "# Input: Temperature in Celsius from the user\n",
    "celsius_temperature = float(input(\"Enter the temperature in Celsius: \"))\n",
    "\n",
    "# Convert Celsius to Fahrenheit using the conversion formula\n",
    "fahrenheit_temperature = (celsius_temperature * 9/5) + 32\n",
    "\n",
    "# Display the result along with a descriptive message\n",
    "print(\"\\nTemperature Conversion:\")\n",
    "print(\"{} degrees Celsius is equal to {} degrees Fahrenheit.\".format(celsius_temperature, fahrenheit_temperature))\n"
   ]
  },
  {
   "cell_type": "code",
   "execution_count": null,
   "id": "38f7bd68-2dd0-45a8-a66d-a7d4f5d4caf4",
   "metadata": {},
   "outputs": [],
   "source": []
  },
  {
   "cell_type": "raw",
   "id": "0d640548-2c01-4458-9e9a-b12692d47fdb",
   "metadata": {},
   "source": [
    "TOPIC: String Based Questions"
   ]
  },
  {
   "cell_type": "markdown",
   "id": "bb045e4f-e20c-46f2-9495-b6132f6844b2",
   "metadata": {},
   "source": [
    "1. Write a Python program that takes a string as input and prints the length of\n",
    "the string."
   ]
  },
  {
   "cell_type": "code",
   "execution_count": 11,
   "id": "f295bfb2-2fde-4d64-912e-16429b87a93e",
   "metadata": {},
   "outputs": [
    {
     "name": "stdout",
     "output_type": "stream",
     "text": [
      "Welcome to the String Length Calculator!\n",
      "Please enter a string.\n"
     ]
    },
    {
     "name": "stdin",
     "output_type": "stream",
     "text": [
      "Enter a string:  14\n"
     ]
    },
    {
     "name": "stdout",
     "output_type": "stream",
     "text": [
      "\n",
      "String Length Calculation:\n",
      "The length of the entered string is: 2 characters.\n"
     ]
    }
   ],
   "source": [
    "# Welcome the user and provide instructions\n",
    "print(\"Welcome to the String Length Calculator!\")\n",
    "print(\"Please enter a string.\")\n",
    "\n",
    "# Input: String from the user\n",
    "user_string = input(\"Enter a string: \")\n",
    "\n",
    "# Calculate the length of the string using the len() function\n",
    "string_length = len(user_string)\n",
    "\n",
    "# Display the result along with a descriptive message\n",
    "print(\"\\nString Length Calculation:\")\n",
    "print(\"The length of the entered string is:\", string_length, \"characters.\")\n",
    "\n"
   ]
  },
  {
   "cell_type": "markdown",
   "id": "3a487bee-dfb8-4614-981a-04d66bb3070d",
   "metadata": {},
   "source": [
    "2. Create a program that takes a sentence from the user and counts the number\n",
    "of vowels (a, e, i, o, u) in the string."
   ]
  },
  {
   "cell_type": "code",
   "execution_count": 12,
   "id": "49523aaa-8216-428e-8247-dc90a49ad776",
   "metadata": {},
   "outputs": [
    {
     "name": "stdout",
     "output_type": "stream",
     "text": [
      "Welcome to the Vowel Counter!\n",
      "Please enter a sentence.\n"
     ]
    },
    {
     "name": "stdin",
     "output_type": "stream",
     "text": [
      "Enter a sentence:  4\n"
     ]
    },
    {
     "name": "stdout",
     "output_type": "stream",
     "text": [
      "\n",
      "Vowel Count:\n",
      "The number of vowels in the entered sentence is: 0\n"
     ]
    }
   ],
   "source": [
    "# Welcome the user and provide instructions\n",
    "print(\"Welcome to the Vowel Counter!\")\n",
    "print(\"Please enter a sentence.\")\n",
    "\n",
    "# Input: Sentence from the user\n",
    "user_sentence = input(\"Enter a sentence: \")\n",
    "\n",
    "# Define a function to count vowels in a given string\n",
    "def count_vowels(sentence):\n",
    "    vowels = \"aeiouAEIOU\"\n",
    "    vowel_count = 0\n",
    "\n",
    "    for char in sentence:\n",
    "        if char in vowels:\n",
    "            vowel_count += 1\n",
    "\n",
    "    return vowel_count\n",
    "\n",
    "# Call the function to get the vowel count\n",
    "vowel_count = count_vowels(user_sentence)\n",
    "\n",
    "# Display the result along with a descriptive message\n",
    "print(\"\\nVowel Count:\")\n",
    "print(\"The number of vowels in the entered sentence is:\", vowel_count)\n"
   ]
  },
  {
   "cell_type": "markdown",
   "id": "79bc4c8c-3d1f-4b97-9a06-83805ac825fa",
   "metadata": {},
   "source": [
    "3. Given a string, reverse the order of characters using string slicing and print\n",
    "the reversed string."
   ]
  },
  {
   "cell_type": "code",
   "execution_count": 13,
   "id": "4209649d-c076-4454-b408-ee94ca254311",
   "metadata": {},
   "outputs": [
    {
     "name": "stdout",
     "output_type": "stream",
     "text": [
      "Welcome to the String Reverser!\n",
      "Please enter a string.\n"
     ]
    },
    {
     "name": "stdin",
     "output_type": "stream",
     "text": [
      "Enter a string:  44\n"
     ]
    },
    {
     "name": "stdout",
     "output_type": "stream",
     "text": [
      "\n",
      "String Reversal:\n",
      "The reversed string of '44' is '44'.\n"
     ]
    }
   ],
   "source": [
    "# Welcome the user and provide instructions\n",
    "print(\"Welcome to the String Reverser!\")\n",
    "print(\"Please enter a string.\")\n",
    "\n",
    "# Input: String from the user\n",
    "user_string = input(\"Enter a string: \")\n",
    "\n",
    "# Reverse the string using string slicing\n",
    "reversed_string = user_string[::-1]\n",
    "\n",
    "# Display the result along with a descriptive message\n",
    "print(\"\\nString Reversal:\")\n",
    "print(\"The reversed string of '{}' is '{}'.\".format(user_string, reversed_string))\n"
   ]
  },
  {
   "cell_type": "markdown",
   "id": "6da13780-c284-4a8f-bdb3-917049c1b444",
   "metadata": {},
   "source": [
    "4. Write a program that takes a string as input and checks if it is a palindrome\n",
    "(reads the same forwards and backwards)."
   ]
  },
  {
   "cell_type": "code",
   "execution_count": 14,
   "id": "72a1e680-597b-4eb4-a6c6-37a459eff160",
   "metadata": {},
   "outputs": [
    {
     "name": "stdout",
     "output_type": "stream",
     "text": [
      "Welcome to the Palindrome Checker!\n",
      "Please enter a string.\n"
     ]
    },
    {
     "name": "stdin",
     "output_type": "stream",
     "text": [
      "Enter a string:  18\n"
     ]
    },
    {
     "name": "stdout",
     "output_type": "stream",
     "text": [
      "\n",
      "The entered string '18' is not a palindrome.\n"
     ]
    }
   ],
   "source": [
    "# Welcome the user and provide instructions\n",
    "print(\"Welcome to the Palindrome Checker!\")\n",
    "print(\"Please enter a string.\")\n",
    "\n",
    "# Input: String from the user\n",
    "user_string = input(\"Enter a string: \")\n",
    "\n",
    "# Function to check if a string is a palindrome\n",
    "def is_palindrome(s):\n",
    "    # Remove spaces and convert to lowercase for a case-insensitive check\n",
    "    cleaned_string = ''.join(s.split()).lower()\n",
    "    return cleaned_string == cleaned_string[::-1]\n",
    "\n",
    "# Check if the entered string is a palindrome\n",
    "if is_palindrome(user_string):\n",
    "    print(\"\\nThe entered string '{}' is a palindrome!\".format(user_string))\n",
    "else:\n",
    "    print(\"\\nThe entered string '{}' is not a palindrome.\".format(user_string))\n"
   ]
  },
  {
   "cell_type": "markdown",
   "id": "2b01daef-40ae-491a-9509-69d0f72f3478",
   "metadata": {},
   "source": [
    "5. Create a program that takes a string as input and removes all the spaces from\n",
    "it. Print the modified string without spaces."
   ]
  },
  {
   "cell_type": "code",
   "execution_count": 16,
   "id": "33d15f34-a6c1-4372-821d-39d7311b454f",
   "metadata": {},
   "outputs": [
    {
     "name": "stdout",
     "output_type": "stream",
     "text": [
      "Welcome to the Space Remover!\n",
      "Please enter a string with spaces.\n"
     ]
    },
    {
     "name": "stdin",
     "output_type": "stream",
     "text": [
      "Enter a string:  8\n"
     ]
    },
    {
     "name": "stdout",
     "output_type": "stream",
     "text": [
      "\n",
      "Modified String without Spaces:\n",
      "8\n"
     ]
    }
   ],
   "source": [
    "# Welcome the user and provide instructions\n",
    "print(\"Welcome to the Space Remover!\")\n",
    "print(\"Please enter a string with spaces.\")\n",
    "\n",
    "# Input: String from the user\n",
    "user_string = input(\"Enter a string: \")\n",
    "\n",
    "# Remove spaces from the string\n",
    "modified_string = user_string.replace(\" \", \"\")\n",
    "\n",
    "# Display the modified string without spaces\n",
    "print(\"\\nModified String without Spaces:\")\n",
    "print(modified_string)\n"
   ]
  },
  {
   "cell_type": "code",
   "execution_count": null,
   "id": "8307b8e9-2166-48a5-bc4a-418428678092",
   "metadata": {},
   "outputs": [],
   "source": []
  },
  {
   "cell_type": "code",
   "execution_count": null,
   "id": "241285bd-14f3-4b2b-b611-caf116a1ebaf",
   "metadata": {},
   "outputs": [],
   "source": []
  }
 ],
 "metadata": {
  "kernelspec": {
   "display_name": "Python 3 (ipykernel)",
   "language": "python",
   "name": "python3"
  },
  "language_info": {
   "codemirror_mode": {
    "name": "ipython",
    "version": 3
   },
   "file_extension": ".py",
   "mimetype": "text/x-python",
   "name": "python",
   "nbconvert_exporter": "python",
   "pygments_lexer": "ipython3",
   "version": "3.10.8"
  }
 },
 "nbformat": 4,
 "nbformat_minor": 5
}
